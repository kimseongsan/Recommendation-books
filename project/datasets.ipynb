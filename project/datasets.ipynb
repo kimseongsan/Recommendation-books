{
  "nbformat": 4,
  "nbformat_minor": 0,
  "metadata": {
    "colab": {
      "provenance": []
    },
    "kernelspec": {
      "name": "python3",
      "display_name": "Python 3"
    },
    "language_info": {
      "name": "python"
    }
  },
  "cells": [
    {
      "cell_type": "markdown",
      "source": [
        "# **데이터셋 만들기**"
      ],
      "metadata": {
        "id": "Q5EP9K2wc8r6"
      }
    },
    {
      "cell_type": "code",
      "execution_count": null,
      "metadata": {
        "id": "Psolzk18ciKZ"
      },
      "outputs": [],
      "source": [
        "CATEGORY_IDS = [\n",
        "    \"34582\", \"55890\", \"170\", \"987\", \"4395\", \"8257\", \"2551\", \"798\",\n",
        "    \"1\", \"1383\", \"1108\", \"55889\", \"1196\", \"74\", \"517\", \"1322\", \"1230\",\n",
        "    \"13789\", \"656\", \"336\", \"2913\", \"112011\", \"17195\", \"1237\", \"2030\", \"1137\",\n",
        "    \"351\", \"50246\", \"76000\", \"76001\"\n",
        "\n",
        "]"
      ]
    },
    {
      "cell_type": "code",
      "source": [
        "import requests\n",
        "import pandas as pd\n",
        "\n",
        "# 알라딘 API 설정\n",
        "API_KEY = \"TTB_API_KEY\"  # 여기에 알라딘 API 키 입력\n",
        "BASE_URL = \"https://www.aladin.co.kr/ttb/api/ItemList.aspx\"\n",
        "\n",
        "# CATEGORY_IDS 리스트\n",
        "CATEGORY_IDS = [\n",
        "    \"34582\", \"55890\", \"170\", \"987\", \"4395\", \"8257\", \"2551\", \"798\",\n",
        "    \"1\", \"1383\", \"1108\", \"55889\", \"1196\", \"74\", \"517\", \"1322\", \"1230\",\n",
        "    \"13789\", \"656\", \"336\", \"2913\", \"112011\", \"17195\", \"1237\", \"2030\", \"1137\",\n",
        "    \"351\", \"50246\", \"76000\", \"76001\"\n",
        "]\n",
        "\n",
        "# 각 카테고리 데이터를 저장할 리스트\n",
        "data = []\n",
        "\n",
        "# 각 카테고리 ID를 기준으로 API 호출\n",
        "for category_id in CATEGORY_IDS:\n",
        "    params = {\n",
        "        \"ttbkey\": API_KEY,\n",
        "        \"QueryType\": \"ItemList\",\n",
        "        \"MaxResults\": 10,  # 테스트를 위해 최대 결과 수를 10으로 제한\n",
        "        \"start\": 1,\n",
        "        \"SearchTarget\": \"Book\",\n",
        "        \"CategoryId\": category_id,\n",
        "        \"Output\": \"js\",\n",
        "        \"Version\": \"20131101\",\n",
        "    }\n",
        "\n",
        "    try:\n",
        "        response = requests.get(BASE_URL, params=params)\n",
        "        response.raise_for_status()\n",
        "        items = response.json().get(\"item\", [])\n",
        "\n",
        "        for item in items:\n",
        "            data.append({\n",
        "                \"CategoryId\": category_id,\n",
        "                \"Title\": item.get(\"title\"),\n",
        "                \"Author\": item.get(\"author\"),\n",
        "                \"Publisher\": item.get(\"publisher\"),\n",
        "                \"Price\": item.get(\"priceStandard\"),\n",
        "                \"PubDate\": item.get(\"pubDate\"),\n",
        "                \"Link\": item.get(\"link\"),\n",
        "            })\n",
        "    except requests.exceptions.RequestException as e:\n",
        "        print(f\"Error fetching data for CategoryId {category_id}: {e}\")\n",
        "\n",
        "# 데이터를 데이터프레임으로 변환\n",
        "df = pd.DataFrame(data)\n",
        "\n",
        "# 데이터프레임 확인\n",
        "df.head()\n"
      ],
      "metadata": {
        "id": "sr6s20DxdgzY"
      },
      "execution_count": null,
      "outputs": []
    },
    {
      "cell_type": "code",
      "source": [
        "df_books.head(3)"
      ],
      "metadata": {
        "id": "i3v9NkdUdjz2"
      },
      "execution_count": null,
      "outputs": []
    },
    {
      "cell_type": "code",
      "source": [
        "CATEGORY_NAMES = {\n",
        "    \"34582\": \"공무원 수험서\",\n",
        "    \"55890\": \"건강/취미\",\n",
        "    \"170\": \"경제/경영\",\n",
        "    \"987\": \"과학\",\n",
        "    \"4395\": \"달력/기타\",\n",
        "    \"8257\": \"대학교제/전문서적\",\n",
        "    \"2551\": \"만화\",\n",
        "    \"798\": \"사회과학\",\n",
        "    \"1\": \"소설/시/희곡\",\n",
        "    \"1383\": \"수험서/자격증\",\n",
        "    \"1108\": \"어린이\",\n",
        "    \"55889\": \"에세이\",\n",
        "    \"1196\": \"여행\",\n",
        "    \"74\": \"역사\",\n",
        "    \"517\": \"예술/대중문화\",\n",
        "    \"1322\": \"외국어\",\n",
        "    \"1230\": \"요리/살림\",\n",
        "    \"13789\": \"유아\",\n",
        "    \"656\": \"인문학\",\n",
        "    \"336\": \"자기개발\",\n",
        "    \"2913\": \"잡지\",\n",
        "    \"112011\": \"장르소설\",\n",
        "    \"17195\": \"전집/중고전집\",\n",
        "    \"1237\": \"종교/역학\",\n",
        "    \"2030\": \"좋은부모\",\n",
        "    \"1137\": \"청소년\",\n",
        "    \"351\": \"컴퓨터/모바일\",\n",
        "    \"50246\": \"초등참고서\",\n",
        "    \"76000\": \"중학교참고서\",\n",
        "    \"76001\": \"고등학교참고서\"\n",
        "}"
      ],
      "metadata": {
        "id": "xR-RSxWwdlgL"
      },
      "execution_count": null,
      "outputs": []
    },
    {
      "cell_type": "code",
      "source": [
        "# CATEGORY_NAMES 사전을 사용하여 df_books에 'category_name' 열 추가\n",
        "df_books['category_name'] = df_books['category_id'].map(CATEGORY_NAMES)\n",
        "\n",
        "# 확인\n",
        "print(df_books.head())"
      ],
      "metadata": {
        "id": "X_VIViGwdoLx"
      },
      "execution_count": null,
      "outputs": []
    },
    {
      "cell_type": "code",
      "source": [
        "# book_id 추가: 1부터 시작하는 고유 ID 생성\n",
        "df_books['book_id'] = range(1, len(df_books) + 1)\n",
        "\n",
        "# 결과 확인\n",
        "print(df_books.head())"
      ],
      "metadata": {
        "id": "4r9tPAEmdsve"
      },
      "execution_count": null,
      "outputs": []
    },
    {
      "cell_type": "code",
      "source": [
        "# 필요한 열만 남기고 나머지 열 제거\n",
        "df_books = df_books[['title', 'category_name', 'description', 'book_id']]\n",
        "\n",
        "# 결과 확인\n",
        "print(df_books.head())"
      ],
      "metadata": {
        "id": "Nq1d-GiNer-0"
      },
      "execution_count": null,
      "outputs": []
    },
    {
      "cell_type": "code",
      "source": [
        "# CSV 파일로 저장\n",
        "file_name = \"books.csv\"\n",
        "df_books.to_csv(file_name, index=False, encoding='utf-8-sig')  # utf-8-sig로 저장하면 Excel에서 한글이 깨지지 않음\n",
        "print(f\"'{file_name}' 파일이 저장되었습니다.\")"
      ],
      "metadata": {
        "id": "Dw3oKbEDeua4"
      },
      "execution_count": null,
      "outputs": []
    },
    {
      "cell_type": "markdown",
      "source": [
        "# **데이터 전처리**"
      ],
      "metadata": {
        "id": "Hll1hN2ae2-_"
      }
    },
    {
      "cell_type": "code",
      "source": [
        "#카테고리 분포 확인\n",
        "category_counts = df_books['category_name'].value_counts()\n",
        "category_counts"
      ],
      "metadata": {
        "id": "8jOnWhQMe8tY"
      },
      "execution_count": null,
      "outputs": []
    },
    {
      "cell_type": "code",
      "source": [
        "# description 컬럼의 Null 값 처리\n",
        "null_description_count = df_books['description'].isnull().sum()\n",
        "null_description_count"
      ],
      "metadata": {
        "id": "QOpJSsvye_Bz"
      },
      "execution_count": null,
      "outputs": []
    },
    {
      "cell_type": "code",
      "source": [
        "# 중복 확인\n",
        "duplicate_titles = df_books.duplicated(subset='title').sum()\n",
        "duplicate_book_ids = df_books.duplicated(subset='book_id').sum()"
      ],
      "metadata": {
        "id": "kLGb435MfApu"
      },
      "execution_count": null,
      "outputs": []
    },
    {
      "cell_type": "code",
      "source": [
        "duplicate_titles"
      ],
      "metadata": {
        "id": "hIEhAubSfQrg"
      },
      "execution_count": null,
      "outputs": []
    },
    {
      "cell_type": "code",
      "source": [
        "duplicate_book_ids"
      ],
      "metadata": {
        "id": "9or8Cn5uj6ZU"
      },
      "execution_count": null,
      "outputs": []
    },
    {
      "cell_type": "code",
      "source": [
        "# title 컬럼 기준으로 중복 제거\n",
        "df_books_deduplicated = df_books.drop_duplicates(subset='title', keep='first')\n",
        "\n",
        "# 중복 제거 후 데이터 개수 확인\n",
        "print(f\"중복 제거 전: {len(df_books)}, 중복 제거 후: {len(df_books_deduplicated)}\")"
      ],
      "metadata": {
        "id": "8ETe4Y13j8Ko"
      },
      "execution_count": null,
      "outputs": []
    }
  ]
}