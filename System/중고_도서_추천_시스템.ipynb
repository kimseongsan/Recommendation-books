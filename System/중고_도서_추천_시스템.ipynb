{
  "nbformat": 4,
  "nbformat_minor": 0,
  "metadata": {
    "colab": {
      "provenance": []
    },
    "kernelspec": {
      "name": "python3",
      "display_name": "Python 3"
    },
    "language_info": {
      "name": "python"
    }
  },
  "cells": [
    {
      "cell_type": "markdown",
      "source": [
        "# **사용 라이브러리**"
      ],
      "metadata": {
        "id": "6J5Za2jVUJ2N"
      }
    },
    {
      "cell_type": "code",
      "execution_count": 2,
      "metadata": {
        "id": "_MxJlZPoSRPG"
      },
      "outputs": [],
      "source": [
        "#필요한 라이브러리\n",
        "import pandas as pd\n",
        "import numpy as np\n",
        "import re\n",
        "from sklearn.feature_extraction.text import TfidfVectorizer\n",
        "from sklearn.metrics.pairwise import cosine_similarity\n",
        "from transformers import AutoTokenizer, AutoModel\n",
        "import torch"
      ]
    },
    {
      "cell_type": "markdown",
      "source": [
        "# **데이터**"
      ],
      "metadata": {
        "id": "KI1RmY0hUN4j"
      }
    },
    {
      "cell_type": "code",
      "source": [
        "#데이터 로드 (알라딘 api를 사용해서 데이터를 정제하였다.)\n",
        "file_path = 'books.csv'\n",
        "df_books = pd.read_csv(file_path)"
      ],
      "metadata": {
        "id": "ilxN62F0Ti4t"
      },
      "execution_count": null,
      "outputs": []
    },
    {
      "cell_type": "code",
      "source": [
        "#결측지 처리\n",
        "df_books['description'] = df_books['description'].fillna('')"
      ],
      "metadata": {
        "id": "jnhrNA8IT-r4"
      },
      "execution_count": null,
      "outputs": []
    },
    {
      "cell_type": "markdown",
      "source": [
        "# **텍스트 전처리**"
      ],
      "metadata": {
        "id": "GmY2bSxNVN9U"
      }
    },
    {
      "cell_type": "code",
      "source": [
        "def preprocess_text_with_nouns(text):\n",
        "  from konlpy.tag import Okt\n",
        "  okt = Okt()\n",
        "  text = re.sub(r'<.*?>', '', text) # HTML 태그 제거\n",
        "  text = re.sub(r'[^가-힣\\s]', '', text) # 한글 외 제거\n",
        "  words = okt.nouns(text) # 명사 추출\n",
        "  return ' '.join(words)"
      ],
      "metadata": {
        "id": "WM1i2zxzXr1h"
      },
      "execution_count": null,
      "outputs": []
    },
    {
      "cell_type": "markdown",
      "source": [
        "# **TF-IDF 벡터화**"
      ],
      "metadata": {
        "id": "MG2BkCkSa9Tp"
      }
    },
    {
      "cell_type": "code",
      "source": [
        "vectorize = TfidVectorizer(max_features = 1000) # 최대 1000개의 피처 사용"
      ],
      "metadata": {
        "id": "i3hea6gOaq4v"
      },
      "execution_count": null,
      "outputs": []
    },
    {
      "cell_type": "markdown",
      "source": [
        "# **BERT 임베딩 설정**"
      ],
      "metadata": {
        "id": "U4QHpFCictEX"
      }
    },
    {
      "cell_type": "code",
      "source": [
        "tokenizer = AutoTokenizer.from_pretrained(\"monologg/kobert\")\n",
        "model = AutoModel.from_pretrained(\"monologg/kobert\")\n",
        "\n",
        "def get_embedding(text):\n",
        "  inputs = tokenizer(text, return_tensors = \"pt\", truncation = True, padding = True)\n",
        "  outputs = model(**inputs)\n",
        "  return outputs.last_hidden_state.mean(dim = 1).detach().numpy()"
      ],
      "metadata": {
        "id": "cp8munfKcxxF"
      },
      "execution_count": null,
      "outputs": []
    },
    {
      "cell_type": "markdown",
      "source": [
        "# **추천 시스템 함수**"
      ],
      "metadata": {
        "id": "IfxH5doKgF9o"
      }
    },
    {
      "cell_type": "code",
      "source": [
        "def recommend_books_v2(category_filter, top_n = 5, method = 'tfidf'):\n",
        "  filtered_books = df_books[df_boks['category_name'] == category_filter]\n",
        "  if filtered_books.empty:\n",
        "    return \"선택한 카테고리에 해당하는 책이 없습니다.\"\n",
        "\n",
        "  filtered_books = filtered_books.reset_index(drop = True)\n",
        "\n",
        "  if method == 'tfidf':\n",
        "    filtered_books['processed_description'] = filtered_books['description'].apply(preprocess_text_with_nouns)\n",
        "    tfidf_matrix = vectorizer.fit_transform(filtered_books['processed_description'])\n",
        "    cosine_sim = cosine_similarity(tfidf_matric, tfidf_matrix)\n",
        "  elif method == 'bert':\n",
        "    embaddings = np.vstack([get_embadding(desc) for desc in filtered_books['description']])\n",
        "    cosine_sim = cosine_similarity(embaddings, embaddings)\n",
        "  else:\n",
        "    return \"지원하지 않는 추천 방식입니다. 'trfidf' 또는 'BERT'를 선택하세요.\"\n",
        "\n",
        "  recommendations = []\n",
        "  similarity_scores = list(enumerate(cosine_sim[0]))\n",
        "  similarity_scores = sorted(similarity_scores, key = lambda x: x[1], reverse = True)[1: top_n+1]\n",
        "  for idx, score in similarity_scores:\n",
        "    book_info = filtered_books.iloc[idx]\n",
        "    recommendations.append({'title': book_info['title'], 'score': score})\n",
        "\n",
        "  return recommendations"
      ],
      "metadata": {
        "id": "Zg98iQrXgw4c"
      },
      "execution_count": null,
      "outputs": []
    },
    {
      "cell_type": "code",
      "source": [
        "# 추천 실행\n",
        "category_filter = '소설/시/희곡'\n",
        "top_n = 5\n",
        "method = 'bert'\n",
        "\n",
        "recommendations = recommend_books_v2(category_filter, top_n, method)\n",
        "recommendations"
      ],
      "metadata": {
        "id": "_5ClaN33DbR5"
      },
      "execution_count": null,
      "outputs": []
    }
  ]
}